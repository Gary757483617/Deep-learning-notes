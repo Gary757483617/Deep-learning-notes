{
 "cells": [
  {
   "cell_type": "code",
   "execution_count": null,
   "metadata": {
    "scrolled": true
   },
   "outputs": [],
   "source": [
    "from bs4 import BeautifulSoup\n",
    "import requests\n",
    "import random\n",
    "import time\n",
    "\n",
    "USER_AGENT_LIST = [\n",
    "    \"Mozilla/5.0 (Windows NT 6.1; WOW64) AppleWebKit/537.1 (KHTML, like Gecko) Chrome/22.0.1207.1 Safari/537.1\",\n",
    "    \"Mozilla/5.0 (X11; CrOS i686 2268.111.0) AppleWebKit/536.11 (KHTML, like Gecko) Chrome/20.0.1132.57 Safari/536.11\",\n",
    "    \"Mozilla/5.0 (Windows NT 6.1; WOW64) AppleWebKit/536.6 (KHTML, like Gecko) Chrome/20.0.1092.0 Safari/536.6\",\n",
    "    \"Mozilla/5.0 (Windows NT 6.2) AppleWebKit/536.6 (KHTML, like Gecko) Chrome/20.0.1090.0 Safari/536.6\",\n",
    "    \"Mozilla/4.0 (compatible; MSIE 7.0; Windows NT 5.1; 360SE)\",\n",
    "    \"Mozilla/5.0 (Windows NT 6.1; WOW64) AppleWebKit/536.3 (KHTML, like Gecko) Chrome/19.0.1061.1 Safari/536.3\",\n",
    "    \"Mozilla/5.0 (Windows NT 6.1) AppleWebKit/536.3 (KHTML, like Gecko) Chrome/19.0.1061.1 Safari/536.3\",\n",
    "    \"Mozilla/5.0 (Windows NT 6.2) AppleWebKit/536.3 (KHTML, like Gecko) Chrome/19.0.1061.0 Safari/536.3\",\n",
    "    \"Mozilla/5.0 (X11; Linux x86_64) AppleWebKit/535.24 (KHTML, like Gecko) Chrome/19.0.1055.1 Safari/535.24\",\n",
    "    \"Mozilla/5.0 (Windows NT 6.2; WOW64) AppleWebKit/535.24 (KHTML, like Gecko) Chrome/19.0.1055.1 Safari/535.24\"\n",
    "]\n",
    "\n",
    "START_ITEM = 0\n",
    "PARSE_ITEM = 600    # To be changed. Maximum is 12150.\n",
    "PARSED_GROUP = []"
   ]
  },
  {
   "cell_type": "code",
   "execution_count": null,
   "metadata": {
    "scrolled": true
   },
   "outputs": [],
   "source": [
    "def parse_page(url):\n",
    "    headers = {'user-agent':random.choice(USER_AGENT_LIST)}\n",
    "    soup = BeautifulSoup(requests.get(url,headers=headers).text,features='lxml')\n",
    "\n",
    "    posts = soup.find_all(name=\"div\",attrs={\"class\":\"channel-item\"})\n",
    "    assert len(posts) > 0\n",
    "    \n",
    "    for post in posts:\n",
    "        like = post.find(name='div',attrs={\"class\":\"likes\"}).text[:-2]\n",
    "        title = post.find(name='h3').text\n",
    "        group = post.find(name='span',attrs={\"class\":\"from\"}).a\n",
    "        group_name, group_id = group.text, group['href'].split('/')[-2]\n",
    "        if group_id in PARSED_GROUP:\n",
    "            continue\n",
    "        \n",
    "        PARSED_GROUP.append(group_id)\n",
    "        writer.writerow([title, group_name, group_id, like, -1])\n",
    "        \n",
    "        group_url = \"https://www.douban.com/group/{}/?type=essence#topics\".format(group_id)\n",
    "        get_essence_posts(group_url, group_name, group_id)\n",
    "        time.sleep(2)"
   ]
  },
  {
   "cell_type": "code",
   "execution_count": null,
   "metadata": {},
   "outputs": [],
   "source": [
    "def get_essence_posts(group_url, group, group_id):\n",
    "    headers = {'user-agent':random.choice(USER_AGENT_LIST)}\n",
    "    soup = BeautifulSoup(requests.get(group_url,headers=headers).text,features='lxml')\n",
    "    \n",
    "    posts = soup.find_all(name='tr',attrs={\"class\":\"\"})\n",
    "    for post in posts:\n",
    "        Title = post.find(name='td',attrs={\"class\":\"title\"}).a\n",
    "        title, post_url = Title.text.strip(), Title['href']\n",
    "        reply = post.find(name='td',attrs={\"class\":\"r-count\"}).text\n",
    "        \n",
    "        writer.writerow([title, group, group_id, -1, reply])"
   ]
  },
  {
   "cell_type": "code",
   "execution_count": null,
   "metadata": {
    "scrolled": true
   },
   "outputs": [],
   "source": [
    "import csv\n",
    "\n",
    "with open(\"./posts_0.csv\", 'w', encoding='utf-8', newline='') as file:\n",
    "    writer = csv.writer(file)\n",
    "    writer.writerow(['title','group','group_id','like','reply'])\n",
    "\n",
    "    for i in range(START_ITEM,PARSE_ITEM,30):\n",
    "        print(\"\\n*****************Start page {}/{}*****************\\n\".format(i//30, PARSE_ITEM//30))\n",
    "        url = \"https://www.douban.com/group/explore?start={}\".format(i)\n",
    "        try:\n",
    "            parse_page(url)\n",
    "            time.sleep(2)\n",
    "        except:\n",
    "            print(\"\\n\\n\\n*****************Waiting for 600s*****************\\n\\n\\n\")\n",
    "            time.sleep(600)\n",
    "            pass"
   ]
  },
  {
   "cell_type": "markdown",
   "metadata": {},
   "source": [
    "## `For data exploration`"
   ]
  },
  {
   "cell_type": "code",
   "execution_count": null,
   "metadata": {
    "scrolled": true
   },
   "outputs": [],
   "source": [
    "import pandas as pd\n",
    "\n",
    "file = pd.read_csv('posts.csv')\n",
    "groups = file['group'].drop_duplicates()"
   ]
  },
  {
   "cell_type": "code",
   "execution_count": null,
   "metadata": {},
   "outputs": [],
   "source": [
    "data = file[file['like'] != -1].copy()\n",
    "data.sort_values(by='like', axis=0, ascending=False, inplace=True)\n",
    "data[:50]"
   ]
  },
  {
   "cell_type": "code",
   "execution_count": null,
   "metadata": {},
   "outputs": [],
   "source": [
    "data = file[file['reply'] != -1].copy()\n",
    "data.sort_values(by='reply', axis=0, ascending=False, inplace=True)\n",
    "data[:50]"
   ]
  },
  {
   "cell_type": "markdown",
   "metadata": {},
   "source": [
    "## `Get more data from target groups`"
   ]
  },
  {
   "cell_type": "code",
   "execution_count": null,
   "metadata": {},
   "outputs": [],
   "source": [
    "def parse_group(base_url, ID):\n",
    "    for i in range(0, 800, 25):\n",
    "        try:\n",
    "            url = base_url + \"?start={}&type=essence\".format(i)\n",
    "\n",
    "            headers = {'user-agent':random.choice(USER_AGENT_LIST)}\n",
    "            soup = BeautifulSoup(requests.get(url,headers=headers).text,features='lxml')\n",
    "            time.sleep(2)\n",
    "\n",
    "            posts = soup.find_all(name=\"tr\",attrs={\"class\":\"\"})\n",
    "            assert len(posts) > 0\n",
    "\n",
    "            for post in posts:\n",
    "                title = post.find(name='td',attrs={\"class\":\"title\"}).a\n",
    "                href, title_text = title['href'], title.text.strip()\n",
    "                num_reply = post.find(name='td',attrs={'class':'r-count'}).text.strip()\n",
    "                writer.writerow([title_text, ID, href, num_reply])\n",
    "        except:\n",
    "            return\n",
    "        \n",
    "        print(\"Finished {}/800\".format(i))"
   ]
  },
  {
   "cell_type": "code",
   "execution_count": null,
   "metadata": {},
   "outputs": [],
   "source": []
  }
 ],
 "metadata": {
  "kernelspec": {
   "display_name": "Python 3",
   "language": "python",
   "name": "python3"
  },
  "language_info": {
   "codemirror_mode": {
    "name": "ipython",
    "version": 3
   },
   "file_extension": ".py",
   "mimetype": "text/x-python",
   "name": "python",
   "nbconvert_exporter": "python",
   "pygments_lexer": "ipython3",
   "version": "3.6.2"
  }
 },
 "nbformat": 4,
 "nbformat_minor": 4
}
