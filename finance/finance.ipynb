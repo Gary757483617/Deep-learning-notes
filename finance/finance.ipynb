{
 "cells": [
  {
   "cell_type": "code",
   "execution_count": null,
   "metadata": {},
   "outputs": [],
   "source": [
    "import requests\n",
    "from bs4 import BeautifulSoup\n",
    "import time\n",
    "import csv\n",
    "import re\n",
    "import random"
   ]
  },
  {
   "cell_type": "markdown",
   "metadata": {},
   "source": [
    "## 虎扑"
   ]
  },
  {
   "cell_type": "code",
   "execution_count": null,
   "metadata": {},
   "outputs": [],
   "source": [
    "headers = {'cookie': YOUR_COOKIE,\n",
    "          'user_agent': \"Mozilla/4.0 (compatible; MSIE 7.0; Windows NT 5.1; 360SE)\"}"
   ]
  },
  {
   "cell_type": "code",
   "execution_count": null,
   "metadata": {
    "scrolled": true
   },
   "outputs": [],
   "source": [
    "def parse_page(url):\n",
    "    soup = BeautifulSoup(requests.get(url, headers = headers).text.encode('gbk', 'ignore').decode('gbk'), features=\"lxml\")\n",
    "    time.sleep(2)\n",
    "    \n",
    "    posts = soup.find(name='ul', attrs={'class':'for-list'}).find_all(name='li')\n",
    "    for post in posts:\n",
    "        try:\n",
    "            title_box = post.find(name='div', attrs={'class':'titlelink box'}).a\n",
    "            title, href = title_box.text.strip(), \"https://bbs.hupu.com\"+title_box['href']\n",
    "            date = post.find(name='div', attrs={'class':'author box'}).text.split()[1]\n",
    "            data = post.find(name='span', attrs={'class':'ansour box'}).text.split()\n",
    "            reply, view = data[0], data[2]\n",
    "\n",
    "            writer.writerow([title, href, date, reply, view])\n",
    "        except:\n",
    "            print(\"---------------Sleep 20s---------------\")\n",
    "            time.sleep(20)\n",
    "            pass"
   ]
  },
  {
   "cell_type": "code",
   "execution_count": null,
   "metadata": {
    "scrolled": true
   },
   "outputs": [],
   "source": [
    "with open(\"./finance_hupu.csv\", 'a', encoding='utf-8', newline='') as file:\n",
    "    writer = csv.writer(file)\n",
    "    writer.writerow(['title', 'href', 'date', 'reply', 'view'])\n",
    "    \n",
    "    for page in range(1,500):\n",
    "        url = \"https://bbs.hupu.com/finance-{}\".format(page)\n",
    "        parse_page(url)\n",
    "       \n",
    "        print(\"Finished page {}/500. \\n\".format(page))"
   ]
  },
  {
   "cell_type": "markdown",
   "metadata": {},
   "source": [
    "## 微博"
   ]
  },
  {
   "cell_type": "code",
   "execution_count": null,
   "metadata": {
    "scrolled": true
   },
   "outputs": [],
   "source": [
    "# 11.3-2.4\n",
    "fund = [680462,831884,932665,547808,829059,1121158,936719,775296,638552,769229,577934,1315142,1103859,802990,1065467,4793886,2726828,1375628,632377,1153528,911430,900174,1825435,933880,981549,805199,1012371,1058992,1028670,821308,761662,712476,607645,703694,687560,812266,797518,790374,1275319,391287,594336,3187609,732077,731204,586886,453445,534115,2180877,908702,757375,843704,745754,661348,476627,1121599,720395,877536,3251958,671078,654742,494042,1652733,1049619,867045,802048,1614521,1530935,1274932,2992663,840758,778310,1139954,967557,452233,430450,1040572,3729056,3203229,4194176,1797169,3171649,1456129,1809734,2244912,2549378,2067485,2017182,947681,1769228,3378096,2942725,2168199]\n",
    "stocks = [354926,472119,299786,96776,95082,424690,401528,352894,329248,268623,104066,94412,274644,315419,365218,306267,295738,128367,130001,405214,369079,366732,287618,285398,104405,93612,316221,402999,386481,334938,346898,137170,113372,379192,369903,393230,303300,295679,114977,118195,415056,386585,342777,533426,372575,147568,137544,428745,439589,422378,299224,277100,148468,105897,324694,328707,336120,337276,104898,228911,142407,420207,446145,442115,343653,411510,188049,127688,384892,313631,415154,372517,401305,212651,167260,1445123,957268,776690,989250,762096,263209,262785,739289,714671,730029,780359,1236834,554155,329991,775171,873699,681090]\n",
    "\n",
    "# 上证指数涨跌幅\n",
    "SCI = [0.19, 1.3, -0.24, 0, 0, 1.86, -0.4, -0.53, -0.11, -0.86, 0, 0, 1.11, -0.21, 0.22, 0.47, 0.44, 0, 0, 1.09, -0.34, -1.19, 0.22, 1.14, 0, 0, -0.49, 1.77, -0.07, -0.21, 0.07, 0, 0, -0.81, -0.19, -1.12, 0.04, -0.77, 0, 0, 0.66, -0.06, -0.01, 1.13, -0.29, 0, 0, 0.76, -1.86, 0.76, -0.57, 0.99, 0, 0, 0.02, -0.54, 1.05, 1.72, 0, 0, 0.86, 0.73, 0.63, 0.71, -0.17, 0, 0, -1.08, 2.18, -0.27, -0.91, 0.01, 0, 0, 0.84, -0.83, 0.47, 1.07, -0.4, 0, 0, 0.48, -1.51, 0.11, -1.91, -0.63, 0, 0, 0.64, 0.81, -0.46, -0.44]"
   ]
  },
  {
   "cell_type": "markdown",
   "metadata": {},
   "source": [
    "## 豆瓣"
   ]
  },
  {
   "cell_type": "code",
   "execution_count": null,
   "metadata": {},
   "outputs": [],
   "source": [
    "USER_AGENT_LIST = [\n",
    "    \"Mozilla/5.0 (Windows NT 6.1; WOW64) AppleWebKit/537.1 (KHTML, like Gecko) Chrome/22.0.1207.1 Safari/537.1\",\n",
    "    \"Mozilla/5.0 (X11; CrOS i686 2268.111.0) AppleWebKit/536.11 (KHTML, like Gecko) Chrome/20.0.1132.57 Safari/536.11\",\n",
    "    \"Mozilla/5.0 (Windows NT 6.1; WOW64) AppleWebKit/536.6 (KHTML, like Gecko) Chrome/20.0.1092.0 Safari/536.6\",\n",
    "    \"Mozilla/5.0 (Windows NT 6.2) AppleWebKit/536.6 (KHTML, like Gecko) Chrome/20.0.1090.0 Safari/536.6\",\n",
    "    \"Mozilla/4.0 (compatible; MSIE 7.0; Windows NT 5.1; 360SE)\",\n",
    "    \"Mozilla/5.0 (Windows NT 6.1; WOW64) AppleWebKit/536.3 (KHTML, like Gecko) Chrome/19.0.1061.1 Safari/536.3\",\n",
    "    \"Mozilla/5.0 (Windows NT 6.1) AppleWebKit/536.3 (KHTML, like Gecko) Chrome/19.0.1061.1 Safari/536.3\",\n",
    "    \"Mozilla/5.0 (Windows NT 6.2) AppleWebKit/536.3 (KHTML, like Gecko) Chrome/19.0.1061.0 Safari/536.3\",\n",
    "    \"Mozilla/5.0 (X11; Linux x86_64) AppleWebKit/535.24 (KHTML, like Gecko) Chrome/19.0.1055.1 Safari/535.24\",\n",
    "    \"Mozilla/5.0 (Windows NT 6.2; WOW64) AppleWebKit/535.24 (KHTML, like Gecko) Chrome/19.0.1055.1 Safari/535.24\"\n",
    "]"
   ]
  },
  {
   "cell_type": "code",
   "execution_count": null,
   "metadata": {},
   "outputs": [],
   "source": [
    "def parse_group(base_url, ID):\n",
    "    for i in range(0, 2500, 25):\n",
    "        try:\n",
    "            url = base_url + \"start={}&type=essence\".format(i)\n",
    "\n",
    "            headers = {'user-agent':random.choice(USER_AGENT_LIST)}\n",
    "            soup = BeautifulSoup(requests.get(url,headers=headers).text,features='lxml')\n",
    "            time.sleep(2)\n",
    "\n",
    "            posts = soup.find_all(name=\"tr\",attrs={\"class\":\"\"})\n",
    "            assert len(posts) > 0\n",
    "\n",
    "            for post in posts:\n",
    "                title = post.find(name='td',attrs={\"class\":\"title\"}).a\n",
    "                href, title_text = title['href'], title.text.strip()\n",
    "                num_reply = post.find(name='td',attrs={'class':'r-count'}).text.strip()\n",
    "                writer.writerow([title_text, ID, href, num_reply])\n",
    "        except:\n",
    "            return\n",
    "        \n",
    "        print(\"Finished {}/2500\".format(i))"
   ]
  },
  {
   "cell_type": "code",
   "execution_count": null,
   "metadata": {
    "scrolled": true
   },
   "outputs": [],
   "source": [
    "with open(\"./douban.csv\", 'w', encoding='utf-8', newline='') as file:\n",
    "    writer = csv.writer(file)\n",
    "    writer.writerow(['title','group_id','like','reply'])\n",
    "\n",
    "    url = \"https://www.douban.com/group/648435/discussion?\"\n",
    "    parse_group(url, '用利息生活')"
   ]
  },
  {
   "cell_type": "markdown",
   "metadata": {},
   "source": [
    "## `数据处理`"
   ]
  },
  {
   "cell_type": "code",
   "execution_count": null,
   "metadata": {},
   "outputs": [],
   "source": [
    "import pandas as pd\n",
    "import matplotlib.pyplot as plt"
   ]
  },
  {
   "cell_type": "code",
   "execution_count": null,
   "metadata": {
    "scrolled": true
   },
   "outputs": [],
   "source": [
    "hupu = pd.read_csv(\"finance_hupu.csv\")\n",
    "hupu.sort_values(by='view', ascending=False, inplace=True)\n",
    "hupu[:50]"
   ]
  },
  {
   "cell_type": "code",
   "execution_count": null,
   "metadata": {},
   "outputs": [],
   "source": []
  }
 ],
 "metadata": {
  "kernelspec": {
   "display_name": "Python 3",
   "language": "python",
   "name": "python3"
  },
  "language_info": {
   "codemirror_mode": {
    "name": "ipython",
    "version": 3
   },
   "file_extension": ".py",
   "mimetype": "text/x-python",
   "name": "python",
   "nbconvert_exporter": "python",
   "pygments_lexer": "ipython3",
   "version": "3.6.2"
  }
 },
 "nbformat": 4,
 "nbformat_minor": 4
}
